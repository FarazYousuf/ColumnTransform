{
 "cells": [
  {
   "cell_type": "code",
   "execution_count": 1,
   "id": "ed0141db",
   "metadata": {},
   "outputs": [],
   "source": [
    "import numpy as np\n",
    "import pandas as pd"
   ]
  },
  {
   "cell_type": "code",
   "execution_count": 2,
   "id": "052486bf",
   "metadata": {},
   "outputs": [],
   "source": [
    "from sklearn.impute import SimpleImputer\n",
    "from sklearn.preprocessing import OneHotEncoder\n",
    "from sklearn.preprocessing import OrdinalEncoder"
   ]
  },
  {
   "cell_type": "code",
   "execution_count": 3,
   "id": "c1f19578",
   "metadata": {},
   "outputs": [],
   "source": [
    "df = pd.read_csv('covid_toy.csv')"
   ]
  },
  {
   "cell_type": "code",
   "execution_count": 4,
   "id": "835ad27c",
   "metadata": {},
   "outputs": [
    {
     "data": {
      "text/html": [
       "<div>\n",
       "<style scoped>\n",
       "    .dataframe tbody tr th:only-of-type {\n",
       "        vertical-align: middle;\n",
       "    }\n",
       "\n",
       "    .dataframe tbody tr th {\n",
       "        vertical-align: top;\n",
       "    }\n",
       "\n",
       "    .dataframe thead th {\n",
       "        text-align: right;\n",
       "    }\n",
       "</style>\n",
       "<table border=\"1\" class=\"dataframe\">\n",
       "  <thead>\n",
       "    <tr style=\"text-align: right;\">\n",
       "      <th></th>\n",
       "      <th>age</th>\n",
       "      <th>gender</th>\n",
       "      <th>fever</th>\n",
       "      <th>cough</th>\n",
       "      <th>city</th>\n",
       "      <th>has_covid</th>\n",
       "    </tr>\n",
       "  </thead>\n",
       "  <tbody>\n",
       "    <tr>\n",
       "      <th>0</th>\n",
       "      <td>60</td>\n",
       "      <td>Male</td>\n",
       "      <td>103.0</td>\n",
       "      <td>Mild</td>\n",
       "      <td>Kolkata</td>\n",
       "      <td>No</td>\n",
       "    </tr>\n",
       "    <tr>\n",
       "      <th>1</th>\n",
       "      <td>27</td>\n",
       "      <td>Male</td>\n",
       "      <td>100.0</td>\n",
       "      <td>Mild</td>\n",
       "      <td>Delhi</td>\n",
       "      <td>Yes</td>\n",
       "    </tr>\n",
       "    <tr>\n",
       "      <th>2</th>\n",
       "      <td>42</td>\n",
       "      <td>Male</td>\n",
       "      <td>101.0</td>\n",
       "      <td>Mild</td>\n",
       "      <td>Delhi</td>\n",
       "      <td>No</td>\n",
       "    </tr>\n",
       "    <tr>\n",
       "      <th>3</th>\n",
       "      <td>31</td>\n",
       "      <td>Female</td>\n",
       "      <td>98.0</td>\n",
       "      <td>Mild</td>\n",
       "      <td>Kolkata</td>\n",
       "      <td>No</td>\n",
       "    </tr>\n",
       "    <tr>\n",
       "      <th>4</th>\n",
       "      <td>65</td>\n",
       "      <td>Female</td>\n",
       "      <td>101.0</td>\n",
       "      <td>Mild</td>\n",
       "      <td>Mumbai</td>\n",
       "      <td>No</td>\n",
       "    </tr>\n",
       "    <tr>\n",
       "      <th>5</th>\n",
       "      <td>84</td>\n",
       "      <td>Female</td>\n",
       "      <td>NaN</td>\n",
       "      <td>Mild</td>\n",
       "      <td>Bangalore</td>\n",
       "      <td>Yes</td>\n",
       "    </tr>\n",
       "    <tr>\n",
       "      <th>6</th>\n",
       "      <td>14</td>\n",
       "      <td>Male</td>\n",
       "      <td>101.0</td>\n",
       "      <td>Strong</td>\n",
       "      <td>Bangalore</td>\n",
       "      <td>No</td>\n",
       "    </tr>\n",
       "    <tr>\n",
       "      <th>7</th>\n",
       "      <td>20</td>\n",
       "      <td>Female</td>\n",
       "      <td>NaN</td>\n",
       "      <td>Strong</td>\n",
       "      <td>Mumbai</td>\n",
       "      <td>Yes</td>\n",
       "    </tr>\n",
       "    <tr>\n",
       "      <th>8</th>\n",
       "      <td>19</td>\n",
       "      <td>Female</td>\n",
       "      <td>100.0</td>\n",
       "      <td>Strong</td>\n",
       "      <td>Bangalore</td>\n",
       "      <td>No</td>\n",
       "    </tr>\n",
       "    <tr>\n",
       "      <th>9</th>\n",
       "      <td>64</td>\n",
       "      <td>Female</td>\n",
       "      <td>101.0</td>\n",
       "      <td>Mild</td>\n",
       "      <td>Delhi</td>\n",
       "      <td>No</td>\n",
       "    </tr>\n",
       "  </tbody>\n",
       "</table>\n",
       "</div>"
      ],
      "text/plain": [
       "   age  gender  fever   cough       city has_covid\n",
       "0   60    Male  103.0    Mild    Kolkata        No\n",
       "1   27    Male  100.0    Mild      Delhi       Yes\n",
       "2   42    Male  101.0    Mild      Delhi        No\n",
       "3   31  Female   98.0    Mild    Kolkata        No\n",
       "4   65  Female  101.0    Mild     Mumbai        No\n",
       "5   84  Female    NaN    Mild  Bangalore       Yes\n",
       "6   14    Male  101.0  Strong  Bangalore        No\n",
       "7   20  Female    NaN  Strong     Mumbai       Yes\n",
       "8   19  Female  100.0  Strong  Bangalore        No\n",
       "9   64  Female  101.0    Mild      Delhi        No"
      ]
     },
     "execution_count": 4,
     "metadata": {},
     "output_type": "execute_result"
    }
   ],
   "source": [
    "df.head(10)"
   ]
  },
  {
   "cell_type": "code",
   "execution_count": 5,
   "id": "09c9f068",
   "metadata": {},
   "outputs": [
    {
     "data": {
      "text/plain": [
       "(100, 6)"
      ]
     },
     "execution_count": 5,
     "metadata": {},
     "output_type": "execute_result"
    }
   ],
   "source": [
    "df.shape"
   ]
  },
  {
   "cell_type": "code",
   "execution_count": 6,
   "id": "7ecc1a56",
   "metadata": {},
   "outputs": [
    {
     "data": {
      "text/plain": [
       "Mild      62\n",
       "Strong    38\n",
       "Name: cough, dtype: int64"
      ]
     },
     "execution_count": 6,
     "metadata": {},
     "output_type": "execute_result"
    }
   ],
   "source": [
    "df['cough'].value_counts()"
   ]
  },
  {
   "cell_type": "code",
   "execution_count": 7,
   "id": "67a728ad",
   "metadata": {},
   "outputs": [
    {
     "data": {
      "text/plain": [
       "Kolkata      32\n",
       "Bangalore    30\n",
       "Delhi        22\n",
       "Mumbai       16\n",
       "Name: city, dtype: int64"
      ]
     },
     "execution_count": 7,
     "metadata": {},
     "output_type": "execute_result"
    }
   ],
   "source": [
    "df['city'].value_counts()"
   ]
  },
  {
   "cell_type": "code",
   "execution_count": 8,
   "id": "d9b6510b",
   "metadata": {},
   "outputs": [
    {
     "data": {
      "text/plain": [
       "age           0\n",
       "gender        0\n",
       "fever        10\n",
       "cough         0\n",
       "city          0\n",
       "has_covid     0\n",
       "dtype: int64"
      ]
     },
     "execution_count": 8,
     "metadata": {},
     "output_type": "execute_result"
    }
   ],
   "source": [
    "df.isnull().sum()"
   ]
  },
  {
   "cell_type": "code",
   "execution_count": 9,
   "id": "e05847bd",
   "metadata": {},
   "outputs": [],
   "source": [
    "from sklearn.model_selection import train_test_split\n",
    "X_train,X_test,y_train,y_test = train_test_split(df.drop(columns=['has_covid']),df['has_covid'],test_size=0.2)"
   ]
  },
  {
   "cell_type": "code",
   "execution_count": 10,
   "id": "d7d5bdcd",
   "metadata": {},
   "outputs": [
    {
     "data": {
      "text/html": [
       "<div>\n",
       "<style scoped>\n",
       "    .dataframe tbody tr th:only-of-type {\n",
       "        vertical-align: middle;\n",
       "    }\n",
       "\n",
       "    .dataframe tbody tr th {\n",
       "        vertical-align: top;\n",
       "    }\n",
       "\n",
       "    .dataframe thead th {\n",
       "        text-align: right;\n",
       "    }\n",
       "</style>\n",
       "<table border=\"1\" class=\"dataframe\">\n",
       "  <thead>\n",
       "    <tr style=\"text-align: right;\">\n",
       "      <th></th>\n",
       "      <th>age</th>\n",
       "      <th>gender</th>\n",
       "      <th>fever</th>\n",
       "      <th>cough</th>\n",
       "      <th>city</th>\n",
       "    </tr>\n",
       "  </thead>\n",
       "  <tbody>\n",
       "    <tr>\n",
       "      <th>50</th>\n",
       "      <td>19</td>\n",
       "      <td>Male</td>\n",
       "      <td>101.0</td>\n",
       "      <td>Mild</td>\n",
       "      <td>Delhi</td>\n",
       "    </tr>\n",
       "    <tr>\n",
       "      <th>61</th>\n",
       "      <td>81</td>\n",
       "      <td>Female</td>\n",
       "      <td>98.0</td>\n",
       "      <td>Strong</td>\n",
       "      <td>Mumbai</td>\n",
       "    </tr>\n",
       "    <tr>\n",
       "      <th>76</th>\n",
       "      <td>80</td>\n",
       "      <td>Male</td>\n",
       "      <td>100.0</td>\n",
       "      <td>Mild</td>\n",
       "      <td>Bangalore</td>\n",
       "    </tr>\n",
       "    <tr>\n",
       "      <th>96</th>\n",
       "      <td>51</td>\n",
       "      <td>Female</td>\n",
       "      <td>101.0</td>\n",
       "      <td>Strong</td>\n",
       "      <td>Kolkata</td>\n",
       "    </tr>\n",
       "    <tr>\n",
       "      <th>1</th>\n",
       "      <td>27</td>\n",
       "      <td>Male</td>\n",
       "      <td>100.0</td>\n",
       "      <td>Mild</td>\n",
       "      <td>Delhi</td>\n",
       "    </tr>\n",
       "    <tr>\n",
       "      <th>...</th>\n",
       "      <td>...</td>\n",
       "      <td>...</td>\n",
       "      <td>...</td>\n",
       "      <td>...</td>\n",
       "      <td>...</td>\n",
       "    </tr>\n",
       "    <tr>\n",
       "      <th>32</th>\n",
       "      <td>34</td>\n",
       "      <td>Female</td>\n",
       "      <td>101.0</td>\n",
       "      <td>Strong</td>\n",
       "      <td>Delhi</td>\n",
       "    </tr>\n",
       "    <tr>\n",
       "      <th>27</th>\n",
       "      <td>33</td>\n",
       "      <td>Female</td>\n",
       "      <td>102.0</td>\n",
       "      <td>Strong</td>\n",
       "      <td>Delhi</td>\n",
       "    </tr>\n",
       "    <tr>\n",
       "      <th>73</th>\n",
       "      <td>34</td>\n",
       "      <td>Male</td>\n",
       "      <td>98.0</td>\n",
       "      <td>Strong</td>\n",
       "      <td>Kolkata</td>\n",
       "    </tr>\n",
       "    <tr>\n",
       "      <th>42</th>\n",
       "      <td>27</td>\n",
       "      <td>Male</td>\n",
       "      <td>100.0</td>\n",
       "      <td>Mild</td>\n",
       "      <td>Delhi</td>\n",
       "    </tr>\n",
       "    <tr>\n",
       "      <th>48</th>\n",
       "      <td>66</td>\n",
       "      <td>Male</td>\n",
       "      <td>99.0</td>\n",
       "      <td>Strong</td>\n",
       "      <td>Bangalore</td>\n",
       "    </tr>\n",
       "  </tbody>\n",
       "</table>\n",
       "<p>80 rows × 5 columns</p>\n",
       "</div>"
      ],
      "text/plain": [
       "    age  gender  fever   cough       city\n",
       "50   19    Male  101.0    Mild      Delhi\n",
       "61   81  Female   98.0  Strong     Mumbai\n",
       "76   80    Male  100.0    Mild  Bangalore\n",
       "96   51  Female  101.0  Strong    Kolkata\n",
       "1    27    Male  100.0    Mild      Delhi\n",
       "..  ...     ...    ...     ...        ...\n",
       "32   34  Female  101.0  Strong      Delhi\n",
       "27   33  Female  102.0  Strong      Delhi\n",
       "73   34    Male   98.0  Strong    Kolkata\n",
       "42   27    Male  100.0    Mild      Delhi\n",
       "48   66    Male   99.0  Strong  Bangalore\n",
       "\n",
       "[80 rows x 5 columns]"
      ]
     },
     "execution_count": 10,
     "metadata": {},
     "output_type": "execute_result"
    }
   ],
   "source": [
    "X_train"
   ]
  },
  {
   "cell_type": "markdown",
   "id": "adfdf124",
   "metadata": {},
   "source": [
    "# Usual Way to Encode Without Column Transform"
   ]
  },
  {
   "cell_type": "code",
   "execution_count": 11,
   "id": "891e71ef",
   "metadata": {},
   "outputs": [
    {
     "data": {
      "text/html": [
       "<div>\n",
       "<style scoped>\n",
       "    .dataframe tbody tr th:only-of-type {\n",
       "        vertical-align: middle;\n",
       "    }\n",
       "\n",
       "    .dataframe tbody tr th {\n",
       "        vertical-align: top;\n",
       "    }\n",
       "\n",
       "    .dataframe thead th {\n",
       "        text-align: right;\n",
       "    }\n",
       "</style>\n",
       "<table border=\"1\" class=\"dataframe\">\n",
       "  <thead>\n",
       "    <tr style=\"text-align: right;\">\n",
       "      <th></th>\n",
       "      <th>age</th>\n",
       "      <th>gender</th>\n",
       "      <th>fever</th>\n",
       "      <th>cough</th>\n",
       "      <th>city</th>\n",
       "    </tr>\n",
       "  </thead>\n",
       "  <tbody>\n",
       "    <tr>\n",
       "      <th>50</th>\n",
       "      <td>19</td>\n",
       "      <td>Male</td>\n",
       "      <td>101.0</td>\n",
       "      <td>Mild</td>\n",
       "      <td>Delhi</td>\n",
       "    </tr>\n",
       "    <tr>\n",
       "      <th>61</th>\n",
       "      <td>81</td>\n",
       "      <td>Female</td>\n",
       "      <td>98.0</td>\n",
       "      <td>Strong</td>\n",
       "      <td>Mumbai</td>\n",
       "    </tr>\n",
       "    <tr>\n",
       "      <th>76</th>\n",
       "      <td>80</td>\n",
       "      <td>Male</td>\n",
       "      <td>100.0</td>\n",
       "      <td>Mild</td>\n",
       "      <td>Bangalore</td>\n",
       "    </tr>\n",
       "    <tr>\n",
       "      <th>96</th>\n",
       "      <td>51</td>\n",
       "      <td>Female</td>\n",
       "      <td>101.0</td>\n",
       "      <td>Strong</td>\n",
       "      <td>Kolkata</td>\n",
       "    </tr>\n",
       "    <tr>\n",
       "      <th>1</th>\n",
       "      <td>27</td>\n",
       "      <td>Male</td>\n",
       "      <td>100.0</td>\n",
       "      <td>Mild</td>\n",
       "      <td>Delhi</td>\n",
       "    </tr>\n",
       "    <tr>\n",
       "      <th>...</th>\n",
       "      <td>...</td>\n",
       "      <td>...</td>\n",
       "      <td>...</td>\n",
       "      <td>...</td>\n",
       "      <td>...</td>\n",
       "    </tr>\n",
       "    <tr>\n",
       "      <th>32</th>\n",
       "      <td>34</td>\n",
       "      <td>Female</td>\n",
       "      <td>101.0</td>\n",
       "      <td>Strong</td>\n",
       "      <td>Delhi</td>\n",
       "    </tr>\n",
       "    <tr>\n",
       "      <th>27</th>\n",
       "      <td>33</td>\n",
       "      <td>Female</td>\n",
       "      <td>102.0</td>\n",
       "      <td>Strong</td>\n",
       "      <td>Delhi</td>\n",
       "    </tr>\n",
       "    <tr>\n",
       "      <th>73</th>\n",
       "      <td>34</td>\n",
       "      <td>Male</td>\n",
       "      <td>98.0</td>\n",
       "      <td>Strong</td>\n",
       "      <td>Kolkata</td>\n",
       "    </tr>\n",
       "    <tr>\n",
       "      <th>42</th>\n",
       "      <td>27</td>\n",
       "      <td>Male</td>\n",
       "      <td>100.0</td>\n",
       "      <td>Mild</td>\n",
       "      <td>Delhi</td>\n",
       "    </tr>\n",
       "    <tr>\n",
       "      <th>48</th>\n",
       "      <td>66</td>\n",
       "      <td>Male</td>\n",
       "      <td>99.0</td>\n",
       "      <td>Strong</td>\n",
       "      <td>Bangalore</td>\n",
       "    </tr>\n",
       "  </tbody>\n",
       "</table>\n",
       "<p>80 rows × 5 columns</p>\n",
       "</div>"
      ],
      "text/plain": [
       "    age  gender  fever   cough       city\n",
       "50   19    Male  101.0    Mild      Delhi\n",
       "61   81  Female   98.0  Strong     Mumbai\n",
       "76   80    Male  100.0    Mild  Bangalore\n",
       "96   51  Female  101.0  Strong    Kolkata\n",
       "1    27    Male  100.0    Mild      Delhi\n",
       "..  ...     ...    ...     ...        ...\n",
       "32   34  Female  101.0  Strong      Delhi\n",
       "27   33  Female  102.0  Strong      Delhi\n",
       "73   34    Male   98.0  Strong    Kolkata\n",
       "42   27    Male  100.0    Mild      Delhi\n",
       "48   66    Male   99.0  Strong  Bangalore\n",
       "\n",
       "[80 rows x 5 columns]"
      ]
     },
     "execution_count": 11,
     "metadata": {},
     "output_type": "execute_result"
    }
   ],
   "source": [
    "#Adding SimpleImputer Class to Fever Columns\n",
    "si = SimpleImputer()\n",
    "\n",
    "# On train data:\n",
    "X_train_fever = si.fit_transform(X_train[['fever']])\n",
    "# On test data:\n",
    "X_test_fever = si.fit_transform(X_test[['fever']])\n",
    "\n",
    "X_train"
   ]
  },
  {
   "cell_type": "code",
   "execution_count": 12,
   "id": "d4cbd452",
   "metadata": {},
   "outputs": [
    {
     "data": {
      "text/plain": [
       "age           0\n",
       "gender        0\n",
       "fever        10\n",
       "cough         0\n",
       "city          0\n",
       "has_covid     0\n",
       "dtype: int64"
      ]
     },
     "execution_count": 12,
     "metadata": {},
     "output_type": "execute_result"
    }
   ],
   "source": [
    "df.isnull().sum()"
   ]
  },
  {
   "cell_type": "markdown",
   "id": "d1bcb177",
   "metadata": {},
   "source": [
    "## Ordinal Encoding -> Cough Column"
   ]
  },
  {
   "cell_type": "code",
   "execution_count": 13,
   "id": "f57bfb96",
   "metadata": {},
   "outputs": [],
   "source": [
    "oe = OrdinalEncoder(categories=[['Mild','Strong']])\n",
    "# On train data:\n",
    "X_train_cough = oe.fit_transform(X_train[['cough']])\n",
    "# On test data:\n",
    "X_test_cough = oe.fit_transform(X_test[['cough']])"
   ]
  },
  {
   "cell_type": "markdown",
   "id": "66dcb0b2",
   "metadata": {},
   "source": [
    "# OneHotEncoding -> Gender, City"
   ]
  },
  {
   "cell_type": "code",
   "execution_count": 17,
   "id": "aa79f131",
   "metadata": {},
   "outputs": [
    {
     "name": "stderr",
     "output_type": "stream",
     "text": [
      "C:\\Users\\Fraz\\anaconda3\\Lib\\site-packages\\sklearn\\preprocessing\\_encoders.py:972: FutureWarning: `sparse` was renamed to `sparse_output` in version 1.2 and will be removed in 1.4. `sparse_output` is ignored unless you leave `sparse` to its default value.\n",
      "  warnings.warn(\n",
      "C:\\Users\\Fraz\\anaconda3\\Lib\\site-packages\\sklearn\\preprocessing\\_encoders.py:972: FutureWarning: `sparse` was renamed to `sparse_output` in version 1.2 and will be removed in 1.4. `sparse_output` is ignored unless you leave `sparse` to its default value.\n",
      "  warnings.warn(\n"
     ]
    },
    {
     "data": {
      "text/plain": [
       "(80, 4)"
      ]
     },
     "execution_count": 17,
     "metadata": {},
     "output_type": "execute_result"
    }
   ],
   "source": [
    "# OneHotEncoding -> gender,city\n",
    "ohe = OneHotEncoder(drop='first',sparse=False)\n",
    "X_train_gender_city = ohe.fit_transform(X_train[['gender','city']])\n",
    "\n",
    "# also the test data\n",
    "X_test_gender_city = ohe.fit_transform(X_test[['gender','city']])\n",
    "\n",
    "X_train_gender_city.shape"
   ]
  },
  {
   "cell_type": "markdown",
   "id": "8b383cf7",
   "metadata": {},
   "source": [
    "# Extracting Age Column"
   ]
  },
  {
   "cell_type": "code",
   "execution_count": 21,
   "id": "201b1cdb",
   "metadata": {},
   "outputs": [
    {
     "data": {
      "text/plain": [
       "(80, 1)"
      ]
     },
     "execution_count": 21,
     "metadata": {},
     "output_type": "execute_result"
    }
   ],
   "source": [
    "# Extracting Age\n",
    "X_train_age = X_train.drop(columns=['gender','fever','cough','city']).values\n",
    "\n",
    "# also the test data\n",
    "X_test_age = X_test.drop(columns=['gender','fever','cough','city']).values\n",
    "\n",
    "X_train_age.shape\n"
   ]
  },
  {
   "cell_type": "markdown",
   "id": "f69b8664",
   "metadata": {},
   "source": [
    "# Concetenating Columns after Encoding "
   ]
  },
  {
   "cell_type": "code",
   "execution_count": 22,
   "id": "2b1b4da1",
   "metadata": {},
   "outputs": [
    {
     "data": {
      "text/plain": [
       "(80, 7)"
      ]
     },
     "execution_count": 22,
     "metadata": {},
     "output_type": "execute_result"
    }
   ],
   "source": [
    "X_train_transformed = np.concatenate((X_train_age,X_train_fever,X_train_gender_city,X_train_cough),axis=1)\n",
    "# also the test data\n",
    "X_test_transformed = np.concatenate((X_test_age,X_test_fever,X_test_gender_city,X_test_cough),axis=1)\n",
    "\n",
    "X_train_transformed.shape"
   ]
  },
  {
   "cell_type": "code",
   "execution_count": 24,
   "id": "1dca89c7",
   "metadata": {},
   "outputs": [
    {
     "data": {
      "text/html": [
       "<div>\n",
       "<style scoped>\n",
       "    .dataframe tbody tr th:only-of-type {\n",
       "        vertical-align: middle;\n",
       "    }\n",
       "\n",
       "    .dataframe tbody tr th {\n",
       "        vertical-align: top;\n",
       "    }\n",
       "\n",
       "    .dataframe thead th {\n",
       "        text-align: right;\n",
       "    }\n",
       "</style>\n",
       "<table border=\"1\" class=\"dataframe\">\n",
       "  <thead>\n",
       "    <tr style=\"text-align: right;\">\n",
       "      <th></th>\n",
       "      <th>age</th>\n",
       "      <th>gender</th>\n",
       "      <th>fever</th>\n",
       "      <th>cough</th>\n",
       "      <th>city</th>\n",
       "      <th>has_covid</th>\n",
       "    </tr>\n",
       "  </thead>\n",
       "  <tbody>\n",
       "    <tr>\n",
       "      <th>0</th>\n",
       "      <td>60</td>\n",
       "      <td>Male</td>\n",
       "      <td>103.0</td>\n",
       "      <td>Mild</td>\n",
       "      <td>Kolkata</td>\n",
       "      <td>No</td>\n",
       "    </tr>\n",
       "    <tr>\n",
       "      <th>1</th>\n",
       "      <td>27</td>\n",
       "      <td>Male</td>\n",
       "      <td>100.0</td>\n",
       "      <td>Mild</td>\n",
       "      <td>Delhi</td>\n",
       "      <td>Yes</td>\n",
       "    </tr>\n",
       "    <tr>\n",
       "      <th>2</th>\n",
       "      <td>42</td>\n",
       "      <td>Male</td>\n",
       "      <td>101.0</td>\n",
       "      <td>Mild</td>\n",
       "      <td>Delhi</td>\n",
       "      <td>No</td>\n",
       "    </tr>\n",
       "    <tr>\n",
       "      <th>3</th>\n",
       "      <td>31</td>\n",
       "      <td>Female</td>\n",
       "      <td>98.0</td>\n",
       "      <td>Mild</td>\n",
       "      <td>Kolkata</td>\n",
       "      <td>No</td>\n",
       "    </tr>\n",
       "    <tr>\n",
       "      <th>4</th>\n",
       "      <td>65</td>\n",
       "      <td>Female</td>\n",
       "      <td>101.0</td>\n",
       "      <td>Mild</td>\n",
       "      <td>Mumbai</td>\n",
       "      <td>No</td>\n",
       "    </tr>\n",
       "  </tbody>\n",
       "</table>\n",
       "</div>"
      ],
      "text/plain": [
       "   age  gender  fever cough     city has_covid\n",
       "0   60    Male  103.0  Mild  Kolkata        No\n",
       "1   27    Male  100.0  Mild    Delhi       Yes\n",
       "2   42    Male  101.0  Mild    Delhi        No\n",
       "3   31  Female   98.0  Mild  Kolkata        No\n",
       "4   65  Female  101.0  Mild   Mumbai        No"
      ]
     },
     "execution_count": 24,
     "metadata": {},
     "output_type": "execute_result"
    }
   ],
   "source": [
    "df.head()"
   ]
  },
  {
   "cell_type": "code",
   "execution_count": 25,
   "id": "2abf9383",
   "metadata": {},
   "outputs": [
    {
     "data": {
      "text/plain": [
       "array([[ 19.        , 101.        ,   1.        ,   1.        ,\n",
       "          0.        ,   0.        ,   0.        ],\n",
       "       [ 81.        ,  98.        ,   0.        ,   0.        ,\n",
       "          0.        ,   1.        ,   1.        ],\n",
       "       [ 80.        , 100.        ,   1.        ,   0.        ,\n",
       "          0.        ,   0.        ,   0.        ],\n",
       "       [ 51.        , 101.        ,   0.        ,   0.        ,\n",
       "          1.        ,   0.        ,   1.        ],\n",
       "       [ 27.        , 100.        ,   1.        ,   1.        ,\n",
       "          0.        ,   0.        ,   0.        ],\n",
       "       [ 34.        , 100.81944444,   0.        ,   0.        ,\n",
       "          0.        ,   1.        ,   1.        ],\n",
       "       [ 69.        , 103.        ,   0.        ,   0.        ,\n",
       "          1.        ,   0.        ,   0.        ],\n",
       "       [ 60.        , 103.        ,   1.        ,   0.        ,\n",
       "          1.        ,   0.        ,   0.        ],\n",
       "       [ 82.        , 100.81944444,   1.        ,   0.        ,\n",
       "          1.        ,   0.        ,   0.        ],\n",
       "       [ 59.        ,  99.        ,   0.        ,   1.        ,\n",
       "          0.        ,   0.        ,   1.        ],\n",
       "       [ 42.        , 100.81944444,   0.        ,   0.        ,\n",
       "          0.        ,   0.        ,   1.        ],\n",
       "       [ 46.        , 103.        ,   1.        ,   0.        ,\n",
       "          0.        ,   0.        ,   1.        ],\n",
       "       [ 75.        , 104.        ,   0.        ,   1.        ,\n",
       "          0.        ,   0.        ,   1.        ],\n",
       "       [ 48.        , 103.        ,   0.        ,   0.        ,\n",
       "          1.        ,   0.        ,   0.        ],\n",
       "       [ 65.        , 101.        ,   0.        ,   0.        ,\n",
       "          0.        ,   1.        ,   0.        ],\n",
       "       [ 82.        , 102.        ,   0.        ,   0.        ,\n",
       "          0.        ,   0.        ,   1.        ],\n",
       "       [ 70.        , 103.        ,   1.        ,   0.        ,\n",
       "          1.        ,   0.        ,   1.        ],\n",
       "       [ 65.        ,  99.        ,   1.        ,   1.        ,\n",
       "          0.        ,   0.        ,   0.        ],\n",
       "       [ 14.        , 101.        ,   1.        ,   0.        ,\n",
       "          0.        ,   0.        ,   1.        ],\n",
       "       [ 56.        , 104.        ,   0.        ,   0.        ,\n",
       "          0.        ,   0.        ,   1.        ],\n",
       "       [ 24.        ,  98.        ,   1.        ,   0.        ,\n",
       "          1.        ,   0.        ,   0.        ],\n",
       "       [ 71.        , 100.81944444,   1.        ,   0.        ,\n",
       "          1.        ,   0.        ,   1.        ],\n",
       "       [  5.        , 100.        ,   0.        ,   0.        ,\n",
       "          1.        ,   0.        ,   0.        ],\n",
       "       [ 25.        , 104.        ,   1.        ,   0.        ,\n",
       "          0.        ,   0.        ,   0.        ],\n",
       "       [ 19.        , 100.        ,   0.        ,   0.        ,\n",
       "          0.        ,   0.        ,   1.        ],\n",
       "       [ 73.        ,  98.        ,   1.        ,   0.        ,\n",
       "          0.        ,   0.        ,   0.        ],\n",
       "       [ 64.        ,  98.        ,   0.        ,   0.        ,\n",
       "          0.        ,   0.        ,   0.        ],\n",
       "       [ 64.        , 101.        ,   0.        ,   1.        ,\n",
       "          0.        ,   0.        ,   0.        ],\n",
       "       [ 16.        , 104.        ,   1.        ,   0.        ,\n",
       "          1.        ,   0.        ,   0.        ],\n",
       "       [ 44.        , 104.        ,   1.        ,   0.        ,\n",
       "          0.        ,   1.        ,   0.        ],\n",
       "       [ 72.        ,  99.        ,   1.        ,   0.        ,\n",
       "          0.        ,   0.        ,   0.        ],\n",
       "       [ 51.        , 104.        ,   1.        ,   0.        ,\n",
       "          0.        ,   0.        ,   0.        ],\n",
       "       [ 80.        ,  98.        ,   0.        ,   1.        ,\n",
       "          0.        ,   0.        ,   0.        ],\n",
       "       [ 26.        ,  98.        ,   0.        ,   0.        ,\n",
       "          1.        ,   0.        ,   0.        ],\n",
       "       [ 10.        , 100.        ,   1.        ,   0.        ,\n",
       "          0.        ,   0.        ,   0.        ],\n",
       "       [  5.        , 102.        ,   1.        ,   0.        ,\n",
       "          1.        ,   0.        ,   0.        ],\n",
       "       [ 19.        , 100.        ,   0.        ,   0.        ,\n",
       "          1.        ,   0.        ,   0.        ],\n",
       "       [ 83.        ,  98.        ,   1.        ,   1.        ,\n",
       "          0.        ,   0.        ,   0.        ],\n",
       "       [ 38.        , 100.81944444,   1.        ,   1.        ,\n",
       "          0.        ,   0.        ,   0.        ],\n",
       "       [ 23.        , 100.81944444,   1.        ,   0.        ,\n",
       "          0.        ,   1.        ,   0.        ],\n",
       "       [ 49.        , 101.        ,   0.        ,   1.        ,\n",
       "          0.        ,   0.        ,   0.        ],\n",
       "       [ 25.        ,  99.        ,   0.        ,   0.        ,\n",
       "          1.        ,   0.        ,   1.        ],\n",
       "       [ 11.        , 100.        ,   1.        ,   0.        ,\n",
       "          0.        ,   0.        ,   0.        ],\n",
       "       [ 47.        , 100.        ,   0.        ,   0.        ,\n",
       "          0.        ,   0.        ,   1.        ],\n",
       "       [ 20.        , 102.        ,   1.        ,   1.        ,\n",
       "          0.        ,   0.        ,   1.        ],\n",
       "       [ 27.        , 100.        ,   1.        ,   0.        ,\n",
       "          1.        ,   0.        ,   0.        ],\n",
       "       [ 42.        , 104.        ,   1.        ,   0.        ,\n",
       "          0.        ,   1.        ,   0.        ],\n",
       "       [ 12.        ,  98.        ,   1.        ,   0.        ,\n",
       "          0.        ,   0.        ,   1.        ],\n",
       "       [ 79.        , 100.81944444,   1.        ,   0.        ,\n",
       "          1.        ,   0.        ,   1.        ],\n",
       "       [  6.        , 104.        ,   0.        ,   0.        ,\n",
       "          1.        ,   0.        ,   0.        ],\n",
       "       [ 11.        , 100.        ,   0.        ,   0.        ,\n",
       "          1.        ,   0.        ,   1.        ],\n",
       "       [ 68.        , 101.        ,   0.        ,   1.        ,\n",
       "          0.        ,   0.        ,   1.        ],\n",
       "       [ 40.        ,  98.        ,   0.        ,   1.        ,\n",
       "          0.        ,   0.        ,   1.        ],\n",
       "       [ 84.        , 100.81944444,   0.        ,   0.        ,\n",
       "          0.        ,   0.        ,   0.        ],\n",
       "       [ 83.        , 101.        ,   0.        ,   0.        ,\n",
       "          1.        ,   0.        ,   0.        ],\n",
       "       [ 49.        , 102.        ,   0.        ,   1.        ,\n",
       "          0.        ,   0.        ,   0.        ],\n",
       "       [ 82.        , 102.        ,   0.        ,   0.        ,\n",
       "          1.        ,   0.        ,   1.        ],\n",
       "       [ 16.        , 103.        ,   0.        ,   0.        ,\n",
       "          0.        ,   0.        ,   0.        ],\n",
       "       [ 31.        ,  98.        ,   0.        ,   0.        ,\n",
       "          1.        ,   0.        ,   0.        ],\n",
       "       [ 24.        , 102.        ,   0.        ,   0.        ,\n",
       "          0.        ,   0.        ,   1.        ],\n",
       "       [ 73.        , 103.        ,   0.        ,   1.        ,\n",
       "          0.        ,   0.        ,   0.        ],\n",
       "       [ 20.        , 101.        ,   0.        ,   0.        ,\n",
       "          0.        ,   0.        ,   0.        ],\n",
       "       [ 60.        ,  99.        ,   0.        ,   0.        ,\n",
       "          0.        ,   1.        ,   0.        ],\n",
       "       [ 65.        ,  98.        ,   0.        ,   0.        ,\n",
       "          0.        ,   1.        ,   0.        ],\n",
       "       [ 54.        , 104.        ,   0.        ,   0.        ,\n",
       "          1.        ,   0.        ,   1.        ],\n",
       "       [ 34.        , 104.        ,   0.        ,   1.        ,\n",
       "          0.        ,   0.        ,   1.        ],\n",
       "       [ 19.        , 101.        ,   0.        ,   0.        ,\n",
       "          0.        ,   1.        ,   0.        ],\n",
       "       [ 38.        , 101.        ,   0.        ,   0.        ,\n",
       "          0.        ,   0.        ,   0.        ],\n",
       "       [  8.        , 101.        ,   0.        ,   0.        ,\n",
       "          1.        ,   0.        ,   0.        ],\n",
       "       [ 22.        ,  99.        ,   0.        ,   0.        ,\n",
       "          0.        ,   0.        ,   0.        ],\n",
       "       [ 47.        , 101.        ,   1.        ,   0.        ,\n",
       "          0.        ,   0.        ,   1.        ],\n",
       "       [ 65.        ,  99.        ,   1.        ,   0.        ,\n",
       "          0.        ,   0.        ,   0.        ],\n",
       "       [ 64.        , 102.        ,   1.        ,   0.        ,\n",
       "          0.        ,   0.        ,   0.        ],\n",
       "       [ 69.        , 102.        ,   0.        ,   0.        ,\n",
       "          0.        ,   0.        ,   0.        ],\n",
       "       [ 23.        ,  98.        ,   1.        ,   0.        ,\n",
       "          0.        ,   1.        ,   1.        ],\n",
       "       [ 34.        , 101.        ,   0.        ,   1.        ,\n",
       "          0.        ,   0.        ,   1.        ],\n",
       "       [ 33.        , 102.        ,   0.        ,   1.        ,\n",
       "          0.        ,   0.        ,   1.        ],\n",
       "       [ 34.        ,  98.        ,   1.        ,   0.        ,\n",
       "          1.        ,   0.        ,   1.        ],\n",
       "       [ 27.        , 100.        ,   1.        ,   1.        ,\n",
       "          0.        ,   0.        ,   0.        ],\n",
       "       [ 66.        ,  99.        ,   1.        ,   0.        ,\n",
       "          0.        ,   0.        ,   1.        ]])"
      ]
     },
     "execution_count": 25,
     "metadata": {},
     "output_type": "execute_result"
    }
   ],
   "source": [
    "X_train_transformed"
   ]
  },
  {
   "cell_type": "markdown",
   "id": "8e202539",
   "metadata": {},
   "source": [
    "# Column Transform Technique:"
   ]
  },
  {
   "cell_type": "code",
   "execution_count": 26,
   "id": "7f79efed",
   "metadata": {},
   "outputs": [],
   "source": [
    "from sklearn.compose import ColumnTransformer"
   ]
  },
  {
   "cell_type": "code",
   "execution_count": 37,
   "id": "5987a342",
   "metadata": {},
   "outputs": [],
   "source": [
    "transformer = ColumnTransformer(transformers=[\n",
    "    ('tnf1',SimpleImputer(),['fever']),\n",
    "    ('tnf2',OrdinalEncoder(categories=[['Mild','Strong']]),['cough']),\n",
    "    ('tnf3',OneHotEncoder(sparse=False,drop='first'),['gender','city'])\n",
    "],remainder='passthrough')"
   ]
  },
  {
   "cell_type": "code",
   "execution_count": 39,
   "id": "541a8ba8",
   "metadata": {},
   "outputs": [
    {
     "name": "stderr",
     "output_type": "stream",
     "text": [
      "C:\\Users\\Fraz\\anaconda3\\Lib\\site-packages\\sklearn\\preprocessing\\_encoders.py:972: FutureWarning: `sparse` was renamed to `sparse_output` in version 1.2 and will be removed in 1.4. `sparse_output` is ignored unless you leave `sparse` to its default value.\n",
      "  warnings.warn(\n"
     ]
    },
    {
     "data": {
      "text/plain": [
       "(80, 7)"
      ]
     },
     "execution_count": 39,
     "metadata": {},
     "output_type": "execute_result"
    }
   ],
   "source": [
    "transformer.fit_transform(X_train).shape"
   ]
  },
  {
   "cell_type": "code",
   "execution_count": 40,
   "id": "f73c1e26",
   "metadata": {},
   "outputs": [
    {
     "data": {
      "text/plain": [
       "(20, 7)"
      ]
     },
     "execution_count": 40,
     "metadata": {},
     "output_type": "execute_result"
    }
   ],
   "source": [
    "transformer.transform(X_test).shape"
   ]
  },
  {
   "cell_type": "code",
   "execution_count": null,
   "id": "f2566e82",
   "metadata": {},
   "outputs": [],
   "source": []
  }
 ],
 "metadata": {
  "kernelspec": {
   "display_name": "Python 3 (ipykernel)",
   "language": "python",
   "name": "python3"
  },
  "language_info": {
   "codemirror_mode": {
    "name": "ipython",
    "version": 3
   },
   "file_extension": ".py",
   "mimetype": "text/x-python",
   "name": "python",
   "nbconvert_exporter": "python",
   "pygments_lexer": "ipython3",
   "version": "3.11.4"
  }
 },
 "nbformat": 4,
 "nbformat_minor": 5
}
